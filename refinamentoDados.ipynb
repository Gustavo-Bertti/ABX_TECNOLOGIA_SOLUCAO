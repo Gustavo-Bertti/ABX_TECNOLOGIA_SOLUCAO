{
 "cells": [
  {
   "cell_type": "code",
   "execution_count": 1,
   "metadata": {},
   "outputs": [
    {
     "name": "stdout",
     "output_type": "stream",
     "text": [
      "numero_solicitacao                0\n",
      "razaoSocial                       0\n",
      "nomeFantasia                      0\n",
      "cnpjSemTraco                      0\n",
      "maiorAtraso                       0\n",
      "margemBrutaAcumulada              0\n",
      "percentualProtestos            1498\n",
      "primeiraCompra                  106\n",
      "prazoMedioRecebimentoVendas       0\n",
      "titulosEmAberto                   0\n",
      "valorSolicitado                   0\n",
      "status                            0\n",
      "definicaoRisco                    0\n",
      "diferencaPercentualRisco          0\n",
      "percentualRisco                   0\n",
      "dashboardCorrelacao               0\n",
      "valorAprovado                  1404\n",
      "dataAprovadoEmComite           8415\n",
      "periodoBalanco                 4240\n",
      "ativoCirculante                4240\n",
      "passivoCirculante              4240\n",
      "totalAtivo                     4240\n",
      "totalPatrimonioLiquido         4240\n",
      "endividamento                  4240\n",
      "duplicatasAReceber             4240\n",
      "estoque                        4240\n",
      "faturamentoBruto                750\n",
      "margemBruta                     750\n",
      "periodoDemonstrativoEmMeses     750\n",
      "custos                          750\n",
      "anoFundacao                     745\n",
      "intervaloFundacao               745\n",
      "capitalSocial                   745\n",
      "restricoes                      745\n",
      "empresa_MeEppMei                745\n",
      "scorePontualidade                 0\n",
      "limiteEmpresaAnaliseCredito     745\n",
      "dataAprovadoNivelAnalista      1962\n",
      "dtype: int64\n"
     ]
    }
   ],
   "source": [
    "import pandas as pd\n",
    "\n",
    "# Carrega o arquivo CSV para um DataFrame\n",
    "df = pd.read_csv('./solicitacoescredito.csv')\n",
    "\n",
    "# Conta os valores nulos em cada coluna\n",
    "contagem_nulos = df.isnull().sum()\n",
    "\n",
    "# Exibe a contagem de valores nulos\n",
    "print(contagem_nulos)\n"
   ]
  },
  {
   "cell_type": "code",
   "execution_count": 5,
   "metadata": {},
   "outputs": [],
   "source": [
    "import pandas as pd\n",
    "\n",
    "# Seleciona apenas as colunas numéricas\n",
    "colunas_numericas = df.select_dtypes(include=['number'])\n",
    "\n",
    "# Calcula a média de cada coluna numérica\n",
    "medias = colunas_numericas.mean()\n",
    "\n",
    "# Preenche os valores nulos com as médias\n",
    "df_preenchido = df.fillna(medias)\n",
    "\n",
    "# Salva o DataFrame preenchido de volta para um arquivo CSV\n",
    "df_preenchido.to_csv('solicitacoesFiltradas.csv', index=False)\n"
   ]
  },
  {
   "cell_type": "code",
   "execution_count": 6,
   "metadata": {},
   "outputs": [
    {
     "name": "stdout",
     "output_type": "stream",
     "text": [
      "numero_solicitacao                0\n",
      "razaoSocial                       0\n",
      "nomeFantasia                      0\n",
      "cnpjSemTraco                      0\n",
      "maiorAtraso                       0\n",
      "margemBrutaAcumulada              0\n",
      "percentualProtestos               0\n",
      "primeiraCompra                  106\n",
      "prazoMedioRecebimentoVendas       0\n",
      "titulosEmAberto                   0\n",
      "valorSolicitado                   0\n",
      "status                            0\n",
      "definicaoRisco                    0\n",
      "diferencaPercentualRisco          0\n",
      "percentualRisco                   0\n",
      "dashboardCorrelacao               0\n",
      "valorAprovado                     0\n",
      "dataAprovadoEmComite           8415\n",
      "periodoBalanco                 4240\n",
      "ativoCirculante                   0\n",
      "passivoCirculante                 0\n",
      "totalAtivo                        0\n",
      "totalPatrimonioLiquido            0\n",
      "endividamento                     0\n",
      "duplicatasAReceber                0\n",
      "estoque                           0\n",
      "faturamentoBruto                  0\n",
      "margemBruta                       0\n",
      "periodoDemonstrativoEmMeses       0\n",
      "custos                            0\n",
      "anoFundacao                       0\n",
      "intervaloFundacao               745\n",
      "capitalSocial                     0\n",
      "restricoes                      745\n",
      "empresa_MeEppMei                745\n",
      "scorePontualidade                 0\n",
      "limiteEmpresaAnaliseCredito       0\n",
      "dataAprovadoNivelAnalista      1962\n",
      "dtype: int64\n"
     ]
    }
   ],
   "source": [
    "import pandas as pd\n",
    "\n",
    "# Carrega o arquivo CSV para um DataFrame\n",
    "df = pd.read_csv('./solicitacoesFiltradas.csv')\n",
    "\n",
    "# Conta os valores nulos em cada coluna\n",
    "contagem_nulos = df.isnull().sum()\n",
    "\n",
    "# Exibe a contagem de valores nulos\n",
    "print(contagem_nulos)"
   ]
  },
  {
   "cell_type": "code",
   "execution_count": 9,
   "metadata": {},
   "outputs": [
    {
     "name": "stdout",
     "output_type": "stream",
     "text": [
      "percentualProtestos       False\n",
      "status                    False\n",
      "definicaoRisco            False\n",
      "valorAprovado             False\n",
      "endividamento             False\n",
      "passivoCirculante         False\n",
      "totalAtivo                False\n",
      "totalPatrimonioLiquido    False\n",
      "faturamentoBruto          False\n",
      "scorePontualidade         False\n",
      "percentualRisco           False\n",
      "dtype: bool\n"
     ]
    }
   ],
   "source": [
    "import pandas as pd\n",
    "\n",
    "\n",
    "\n",
    "# Lista das colunas de interesse\n",
    "colunas_interesse = ['percentualProtestos', 'status', 'definicaoRisco', 'valorAprovado', \n",
    "                     'endividamento', 'passivoCirculante', 'totalAtivo', 'totalPatrimonioLiquido', \n",
    "                     'faturamentoBruto', 'scorePontualidade', 'percentualRisco']\n",
    "\n",
    "# Verifica se há valores nulos nessas colunas\n",
    "valores_nulos = df[colunas_interesse].isnull().any()\n",
    "\n",
    "# Exibe os resultados\n",
    "print(valores_nulos)"
   ]
  },
  {
   "cell_type": "code",
   "execution_count": 10,
   "metadata": {},
   "outputs": [],
   "source": [
    "dados_interesse = df[colunas_interesse]\n",
    "\n",
    "# Critérios de seleção para clientes ruins\n",
    "crit_ruins = (dados_interesse['percentualProtestos'] > 0) | \\\n",
    "             (dados_interesse['definicaoRisco'] != 'De 0 a 10 % - Muito Baixo') | \\\n",
    "             (dados_interesse['valorAprovado'] < 50000) | \\\n",
    "             (dados_interesse['endividamento'] != 0) | \\\n",
    "             (dados_interesse['totalPatrimonioLiquido'] < 10000) | \\\n",
    "             (dados_interesse['faturamentoBruto'] < 500000)\n",
    "\n",
    "# Critérios de seleção para clientes bons\n",
    "crit_bons = (dados_interesse['percentualProtestos'] == 0) & \\\n",
    "            (dados_interesse['definicaoRisco'] == 'De 0 a 10 % - Muito Baixo') & \\\n",
    "            (dados_interesse['valorAprovado'] >= 50000) & \\\n",
    "            (dados_interesse['endividamento'] == 0) & \\\n",
    "            (dados_interesse['totalPatrimonioLiquido'] >= 10000) & \\\n",
    "            (dados_interesse['faturamentoBruto'] >= 500000)\n",
    "\n",
    "\n",
    "# Filtrando o DataFrame original com base nos critérios\n",
    "clientes_ruins = df[crit_ruins]\n",
    "clientes_bons = df[crit_bons]\n",
    "\n",
    "# Salvando os resultados em arquivos CSV\n",
    "clientes_ruins.to_csv('clientes_ruins.csv', index=False)\n",
    "clientes_bons.to_csv('clientes_bons.csv', index=False)\n"
   ]
  },
  {
   "cell_type": "code",
   "execution_count": 11,
   "metadata": {},
   "outputs": [
    {
     "name": "stdout",
     "output_type": "stream",
     "text": [
      "Número de clientes bons: 315\n",
      "Número de clientes ruins: 8658\n"
     ]
    }
   ],
   "source": [
    "# Conta o número de clientes bons e ruins\n",
    "num_clientes_bons = len(clientes_bons)\n",
    "num_clientes_ruins = len(clientes_ruins)\n",
    "\n",
    "# Exibe o resultado\n",
    "print(\"Número de clientes bons:\", num_clientes_bons)\n",
    "print(\"Número de clientes ruins:\", num_clientes_ruins)"
   ]
  },
  {
   "cell_type": "code",
   "execution_count": 15,
   "metadata": {},
   "outputs": [
    {
     "name": "stdout",
     "output_type": "stream",
     "text": [
      "              precision    recall  f1-score   support\n",
      "\n",
      "           0       1.00      1.00      1.00      1741\n",
      "           1       1.00      1.00      1.00      1723\n",
      "\n",
      "    accuracy                           1.00      3464\n",
      "   macro avg       1.00      1.00      1.00      3464\n",
      "weighted avg       1.00      1.00      1.00      3464\n",
      "\n"
     ]
    }
   ],
   "source": [
    "import pandas as pd\n",
    "from imblearn.over_sampling import SMOTE\n",
    "from sklearn.ensemble import RandomForestClassifier\n",
    "from sklearn.model_selection import train_test_split\n",
    "from sklearn.metrics import classification_report\n",
    "\n",
    "# Carrega os arquivos CSV dos clientes bons e ruins\n",
    "clientes_bons = pd.read_csv('clientes_bons.csv')\n",
    "clientes_ruins = pd.read_csv('clientes_ruins.csv')\n",
    "\n",
    "# Adiciona uma coluna 'target' para identificar clientes bons (1) e ruins (0)\n",
    "clientes_bons['target'] = 1\n",
    "clientes_ruins['target'] = 0\n",
    "\n",
    "# Combina os DataFrames de clientes bons e ruins\n",
    "df = pd.concat([clientes_bons, clientes_ruins])\n",
    "\n",
    "# Convertendo variáveis categóricas em variáveis dummy\n",
    "df = pd.get_dummies(df)\n",
    "\n",
    "# Define os recursos (X) e os rótulos (y)\n",
    "X = df.drop(columns=['target'])\n",
    "y = df['target']\n",
    "\n",
    "\n",
    "# Aplica o SMOTE para balancear as classes\n",
    "smote = SMOTE(random_state=42)\n",
    "X_resampled, y_resampled = smote.fit_resample(X, y)\n",
    "\n",
    "# Divide os dados em conjunto de treinamento e teste\n",
    "X_train, X_test, y_train, y_test = train_test_split(X_resampled, y_resampled, test_size=0.2, random_state=42)\n",
    "\n",
    "# Inicializa e treina o modelo RandomForestClassifier\n",
    "clf = RandomForestClassifier(random_state=42)\n",
    "clf.fit(X_train, y_train)\n",
    "\n",
    "# Avalia o modelo\n",
    "y_pred = clf.predict(X_test)\n",
    "print(classification_report(y_test, y_pred))\n"
   ]
  }
 ],
 "metadata": {
  "kernelspec": {
   "display_name": "Python 3",
   "language": "python",
   "name": "python3"
  },
  "language_info": {
   "codemirror_mode": {
    "name": "ipython",
    "version": 3
   },
   "file_extension": ".py",
   "mimetype": "text/x-python",
   "name": "python",
   "nbconvert_exporter": "python",
   "pygments_lexer": "ipython3",
   "version": "3.8.2"
  },
  "orig_nbformat": 4
 },
 "nbformat": 4,
 "nbformat_minor": 2
}
