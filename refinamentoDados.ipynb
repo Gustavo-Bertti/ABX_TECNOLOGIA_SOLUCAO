{
 "cells": [
  {
   "cell_type": "code",
   "execution_count": 5,
   "metadata": {},
   "outputs": [
    {
     "name": "stdout",
     "output_type": "stream",
     "text": [
      "Total de dados: 340974\n",
      "Total de valores nulos: 54775\n",
      "Proporção de valores nulos em relação ao total de dados: 0.16064274695431324\n"
     ]
    }
   ],
   "source": [
    "import pandas as pd\n",
    "\n",
    "# Carregar o arquivo CSV\n",
    "caminho_arquivo = \"./solicitacoescredito.csv\"\n",
    "dados = pd.read_csv(caminho_arquivo)\n",
    "\n",
    "# Contar o total de dados\n",
    "total_de_dados = dados.shape[0] * dados.shape[1]\n",
    "\n",
    "# Contar valores nulos em cada coluna\n",
    "valores_nulos_por_coluna = dados.isnull().sum()\n",
    "\n",
    "# Calcular o total de valores nulos\n",
    "total_de_valores_nulos = valores_nulos_por_coluna.sum()\n",
    "\n",
    "# Calcular a proporção de valores nulos em relação ao total de dados\n",
    "proporcao_de_valores_nulos = total_de_valores_nulos / total_de_dados\n",
    "\n",
    "print(\"Total de dados:\", total_de_dados)\n",
    "print(\"Total de valores nulos:\", total_de_valores_nulos)\n",
    "print(\"Proporção de valores nulos em relação ao total de dados:\", proporcao_de_valores_nulos)\n"
   ]
  },
  {
   "cell_type": "code",
   "execution_count": 8,
   "metadata": {},
   "outputs": [
    {
     "name": "stdout",
     "output_type": "stream",
     "text": [
      "numero_solicitacao                0\n",
      "razaoSocial                       0\n",
      "nomeFantasia                      0\n",
      "cnpjSemTraco                      0\n",
      "maiorAtraso                       0\n",
      "margemBrutaAcumulada              0\n",
      "percentualProtestos            1498\n",
      "primeiraCompra                  106\n",
      "prazoMedioRecebimentoVendas       0\n",
      "titulosEmAberto                   0\n",
      "valorSolicitado                   0\n",
      "status                            0\n",
      "definicaoRisco                    0\n",
      "diferencaPercentualRisco          0\n",
      "percentualRisco                   0\n",
      "dashboardCorrelacao               0\n",
      "valorAprovado                  1404\n",
      "dataAprovadoEmComite           8415\n",
      "periodoBalanco                 4240\n",
      "ativoCirculante                4240\n",
      "passivoCirculante              4240\n",
      "totalAtivo                     4240\n",
      "totalPatrimonioLiquido         4240\n",
      "endividamento                  4240\n",
      "duplicatasAReceber             4240\n",
      "estoque                        4240\n",
      "faturamentoBruto                750\n",
      "margemBruta                     750\n",
      "periodoDemonstrativoEmMeses     750\n",
      "custos                          750\n",
      "anoFundacao                     745\n",
      "intervaloFundacao               745\n",
      "capitalSocial                   745\n",
      "restricoes                      745\n",
      "empresa_MeEppMei                745\n",
      "scorePontualidade                 0\n",
      "limiteEmpresaAnaliseCredito     745\n",
      "dataAprovadoNivelAnalista      1962\n",
      "dtype: int64\n"
     ]
    }
   ],
   "source": [
    "# prompt: carreguei dados csv, preciso saber quantos dados nulos ele tem \n",
    "\n",
    "import pandas as pd\n",
    "\n",
    "# Load the CSV file\n",
    "dados = pd.read_csv(\"./solicitacoescredito.csv\")\n",
    "\n",
    "# Count the number of null values in each column\n",
    "null_counts = dados.isnull().sum()\n",
    "\n",
    "# Print the results\n",
    "print(null_counts)"
   ]
  },
  {
   "cell_type": "code",
   "execution_count": 10,
   "metadata": {},
   "outputs": [],
   "source": [
    "import pandas as pd\n",
    "\n",
    "# Read the CSV file into a DataFrame\n",
    "df = pd.read_csv(\"./solicitacoescredito.csv\")\n",
    "\n",
    "# Fill missing values with the most frequent value for each column\n",
    "df = df.fillna(df.mode().iloc[0])\n",
    "\n",
    "# Save the updated DataFrame to a new CSV file\n",
    "df.to_csv('output.csv', index=False)"
   ]
  },
  {
   "cell_type": "code",
   "execution_count": 13,
   "metadata": {},
   "outputs": [
    {
     "name": "stdout",
     "output_type": "stream",
     "text": [
      "Total de dados: 340974\n",
      "Total de valores nulos: 0\n",
      "Proporção de valores nulos em relação ao total de dados: 0.0\n"
     ]
    }
   ],
   "source": [
    "import pandas as pd\n",
    "\n",
    "# Carregar o arquivo CSV\n",
    "caminho_arquivo = \"./output.csv\"\n",
    "dados = pd.read_csv(caminho_arquivo)\n",
    "\n",
    "# Contar o total de dados\n",
    "total_de_dados = dados.shape[0] * dados.shape[1]\n",
    "\n",
    "# Contar valores nulos em cada coluna\n",
    "valores_nulos_por_coluna = dados.isnull().sum()\n",
    "\n",
    "# Calcular o total de valores nulos\n",
    "total_de_valores_nulos = valores_nulos_por_coluna.sum()\n",
    "\n",
    "# Calcular a proporção de valores nulos em relação ao total de dados\n",
    "proporcao_de_valores_nulos = total_de_valores_nulos / total_de_dados\n",
    "\n",
    "print(\"Total de dados:\", total_de_dados)\n",
    "print(\"Total de valores nulos:\", total_de_valores_nulos)\n",
    "print(\"Proporção de valores nulos em relação ao total de dados:\", proporcao_de_valores_nulos)\n"
   ]
  },
  {
   "cell_type": "code",
   "execution_count": 14,
   "metadata": {},
   "outputs": [
    {
     "name": "stdout",
     "output_type": "stream",
     "text": [
      "Index(['numero_solicitacao', 'razaoSocial', 'nomeFantasia', 'cnpjSemTraco',\n",
      "       'maiorAtraso', 'margemBrutaAcumulada', 'percentualProtestos',\n",
      "       'primeiraCompra', 'prazoMedioRecebimentoVendas', 'titulosEmAberto',\n",
      "       'valorSolicitado', 'status', 'definicaoRisco',\n",
      "       'diferencaPercentualRisco', 'percentualRisco', 'dashboardCorrelacao',\n",
      "       'valorAprovado', 'dataAprovadoEmComite', 'periodoBalanco',\n",
      "       'ativoCirculante', 'passivoCirculante', 'totalAtivo',\n",
      "       'totalPatrimonioLiquido', 'endividamento', 'duplicatasAReceber',\n",
      "       'estoque', 'faturamentoBruto', 'margemBruta',\n",
      "       'periodoDemonstrativoEmMeses', 'custos', 'anoFundacao',\n",
      "       'intervaloFundacao', 'capitalSocial', 'restricoes', 'empresa_MeEppMei',\n",
      "       'scorePontualidade', 'limiteEmpresaAnaliseCredito',\n",
      "       'dataAprovadoNivelAnalista'],\n",
      "      dtype='object')\n"
     ]
    }
   ],
   "source": [
    "print(dados.columns)"
   ]
  },
  {
   "cell_type": "code",
   "execution_count": 15,
   "metadata": {},
   "outputs": [
    {
     "name": "stdout",
     "output_type": "stream",
     "text": [
      "Clientes selecionados com as características desejadas:\n",
      "      percentualProtestos            status             definicaoRisco  \\\n",
      "5776                  0.0  AprovadoAnalista  De 0 a 10 % - Muito Baixo   \n",
      "7123                  0.0  AprovadoAnalista  De 0 a 10 % - Muito Baixo   \n",
      "\n",
      "      valorAprovado  endividamento  passivoCirculante  totalAtivo  \\\n",
      "5776       200000.0            0.0          3487354.0  19295009.0   \n",
      "7123       145000.0            0.0         10407632.0  14369543.0   \n",
      "\n",
      "      totalPatrimonioLiquido  faturamentoBruto  scorePontualidade  \\\n",
      "5776              15796149.0        11882879.0                1.0   \n",
      "7123               3959940.0        61923384.0                1.0   \n",
      "\n",
      "      percentualRisco  \n",
      "5776              0.0  \n",
      "7123              0.0  \n",
      "Resultados salvos em clientes_selecionados.csv\n"
     ]
    }
   ],
   "source": [
    "import pandas as pd\n",
    "\n",
    "# Carregar o arquivo CSV\n",
    "caminho_arquivo = \"./output.csv\"\n",
    "dados = pd.read_csv(caminho_arquivo)\n",
    "\n",
    "# Selecionar colunas de interesse\n",
    "colunas_interesse = ['percentualProtestos', 'status', 'definicaoRisco', 'valorAprovado', \n",
    "                     'endividamento', 'passivoCirculante', 'totalAtivo', 'totalPatrimonioLiquido', \n",
    "                     'faturamentoBruto', 'scorePontualidade', 'percentualRisco']\n",
    "dados_interesse = dados[colunas_interesse]\n",
    "\n",
    "# Critérios de seleção\n",
    "crit1 = dados_interesse['percentualRisco'] == 0  # Baixo risco\n",
    "crit2 = dados_interesse['valorAprovado'] > 50000  # Valor aprovado alto\n",
    "crit3 = dados_interesse['endividamento'] == 0  # Baixo endividamento\n",
    "crit4 = dados_interesse['passivoCirculante'] > 50000  # Alto passivo circulante\n",
    "crit5 = dados_interesse['faturamentoBruto'] > 1000000  # Alto faturamento bruto\n",
    "crit6 = dados_interesse['scorePontualidade'] == 1  # Pontualidade perfeita\n",
    "\n",
    "# Aplicar critérios de seleção\n",
    "clientes_selecionados = dados_interesse[crit1 & crit2 & crit3 & crit4 & crit5 & crit6]\n",
    "\n",
    "# Exibir ou salvar os resultados\n",
    "print(\"Clientes selecionados com as características desejadas:\")\n",
    "print(clientes_selecionados)\n",
    "\n",
    "# Salvar os resultados em um novo arquivo CSV, se necessário\n",
    "caminho_resultados = \"clientes_selecionados.csv\"\n",
    "clientes_selecionados.to_csv(caminho_resultados, index=False)\n",
    "print(\"Resultados salvos em\", caminho_resultados)\n"
   ]
  },
  {
   "cell_type": "code",
   "execution_count": 22,
   "metadata": {},
   "outputs": [
    {
     "name": "stdout",
     "output_type": "stream",
     "text": [
      "Número de clientes: 8973\n"
     ]
    }
   ],
   "source": [
    "numero_de_clientes = dados.shape[0]\n",
    "print(\"Número de clientes:\", numero_de_clientes)"
   ]
  },
  {
   "cell_type": "code",
   "execution_count": 23,
   "metadata": {},
   "outputs": [
    {
     "name": "stderr",
     "output_type": "stream",
     "text": [
      "C:\\Users\\logonrmlocal\\AppData\\Local\\Temp\\ipykernel_10748\\3529552840.py:30: SettingWithCopyWarning: \n",
      "A value is trying to be set on a copy of a slice from a DataFrame.\n",
      "Try using .loc[row_indexer,col_indexer] = value instead\n",
      "\n",
      "See the caveats in the documentation: https://pandas.pydata.org/pandas-docs/stable/user_guide/indexing.html#returning-a-view-versus-a-copy\n",
      "  dados_interesse['categoria'] = 'Ruim'\n"
     ]
    },
    {
     "name": "stdout",
     "output_type": "stream",
     "text": [
      "Arquivos CSV salvos com sucesso!\n"
     ]
    }
   ],
   "source": [
    "import pandas as pd\n",
    "\n",
    "# Carregar o arquivo CSV\n",
    "caminho_arquivo = \"./output.csv\"\n",
    "dados = pd.read_csv(caminho_arquivo)\n",
    "\n",
    "# Selecionar colunas de interesse\n",
    "colunas_interesse = ['percentualProtestos', 'status', 'definicaoRisco', 'valorAprovado', \n",
    "                     'endividamento', 'passivoCirculante', 'totalAtivo', 'totalPatrimonioLiquido', \n",
    "                     'faturamentoBruto', 'scorePontualidade', 'percentualRisco']\n",
    "dados_interesse = dados[colunas_interesse]\n",
    "\n",
    "# Critérios de seleção para clientes ruins\n",
    "crit_ruins = (dados_interesse['percentualProtestos'] > 0) | \\\n",
    "             (dados_interesse['definicaoRisco'] != 'De 0 a 10 % - Muito Baixo') | \\\n",
    "             (dados_interesse['valorAprovado'] < 50000) | \\\n",
    "             (dados_interesse['endividamento'] != 0) | \\\n",
    "             (dados_interesse['totalPatrimonioLiquido'] < 10000) | \\\n",
    "             (dados_interesse['faturamentoBruto'] < 500000)\n",
    "\n",
    "# Critérios de seleção para clientes bons\n",
    "crit_bons = (dados_interesse['percentualProtestos'] == 0) & \\\n",
    "            (dados_interesse['definicaoRisco'] == 'De 0 a 10 % - Muito Baixo') & \\\n",
    "            (dados_interesse['valorAprovado'] >= 50000) & \\\n",
    "            (dados_interesse['endividamento'] == 0) & \\\n",
    "            (dados_interesse['totalPatrimonioLiquido'] >= 10000) & \\\n",
    "            (dados_interesse['faturamentoBruto'] >= 500000)\n",
    "\n",
    "# Aplicar critérios de seleção para classificar os clientes\n",
    "dados_interesse['categoria'] = 'Ruim'\n",
    "dados_interesse.loc[crit_bons, 'categoria'] = 'Bom'\n",
    "\n",
    "# Salvar clientes ruins em um arquivo CSV separado\n",
    "clientes_ruins = dados_interesse[dados_interesse['categoria'] == 'Ruim']\n",
    "clientes_ruins.to_csv('clientes_ruins.csv', index=False)\n",
    "\n",
    "# Salvar clientes bons em um arquivo CSV separado\n",
    "clientes_bons = dados_interesse[dados_interesse['categoria'] == 'Bom']\n",
    "clientes_bons.to_csv('clientes_bons.csv', index=False)\n",
    "\n",
    "# Salvar todos os dados dos clientes ruins em um arquivo CSV separado\n",
    "dados_clientes_ruins = dados[dados.index.isin(clientes_ruins.index)]\n",
    "dados_clientes_ruins.to_csv('dados_clientes_ruins.csv', index=False)\n",
    "\n",
    "# Salvar todos os dados dos clientes bons em um arquivo CSV separado\n",
    "dados_clientes_bons = dados[dados.index.isin(clientes_bons.index)]\n",
    "dados_clientes_bons.to_csv('dados_clientes_bons.csv', index=False)\n",
    "\n",
    "print(\"Arquivos CSV salvos com sucesso!\")\n"
   ]
  },
  {
   "cell_type": "code",
   "execution_count": 24,
   "metadata": {},
   "outputs": [
    {
     "name": "stdout",
     "output_type": "stream",
     "text": [
      "Clientes perfeitos:\n",
      "      percentualProtestos            status             definicaoRisco  \\\n",
      "5776                  0.0  AprovadoAnalista  De 0 a 10 % - Muito Baixo   \n",
      "7123                  0.0  AprovadoAnalista  De 0 a 10 % - Muito Baixo   \n",
      "\n",
      "      valorAprovado  endividamento  passivoCirculante  totalAtivo  \\\n",
      "5776       200000.0            0.0          3487354.0  19295009.0   \n",
      "7123       145000.0            0.0         10407632.0  14369543.0   \n",
      "\n",
      "      totalPatrimonioLiquido  faturamentoBruto  scorePontualidade  \\\n",
      "5776              15796149.0        11882879.0                1.0   \n",
      "7123               3959940.0        61923384.0                1.0   \n",
      "\n",
      "      percentualRisco  \n",
      "5776              0.0  \n",
      "7123              0.0  \n",
      "Clientes perfeitos salvos em clientes_perfeitos.csv\n",
      "Dados dos clientes perfeitos salvos em dados_clientes_perfeitos.csv\n"
     ]
    }
   ],
   "source": [
    "import pandas as pd\n",
    "\n",
    "# Carregar o arquivo CSV\n",
    "caminho_arquivo = \"./output.csv\"\n",
    "dados = pd.read_csv(caminho_arquivo)\n",
    "\n",
    "# Selecionar colunas de interesse\n",
    "colunas_interesse = ['percentualProtestos', 'status', 'definicaoRisco', 'valorAprovado', \n",
    "                     'endividamento', 'passivoCirculante', 'totalAtivo', 'totalPatrimonioLiquido', \n",
    "                     'faturamentoBruto', 'scorePontualidade', 'percentualRisco']\n",
    "dados_interesse = dados[colunas_interesse]\n",
    "\n",
    "# Critérios de seleção\n",
    "crit1 = dados_interesse['percentualRisco'] == 0  # Baixo risco\n",
    "crit2 = dados_interesse['valorAprovado'] > 50000  # Valor aprovado alto\n",
    "crit3 = dados_interesse['endividamento'] == 0  # Baixo endividamento\n",
    "crit4 = dados_interesse['passivoCirculante'] > 50000  # Alto passivo circulante\n",
    "crit5 = dados_interesse['faturamentoBruto'] > 1000000  # Alto faturamento bruto\n",
    "crit6 = dados_interesse['scorePontualidade'] == 1  # Pontualidade perfeita\n",
    "\n",
    "# Aplicar critérios de seleção\n",
    "clientes_perfeitos = dados_interesse[crit1 & crit2 & crit3 & crit4 & crit5 & crit6]\n",
    "\n",
    "# Exibir ou salvar os resultados\n",
    "print(\"Clientes perfeitos:\")\n",
    "print(clientes_perfeitos)\n",
    "\n",
    "# Salvar os clientes perfeitos em um novo arquivo CSV\n",
    "caminho_clientes_perfeitos = \"clientes_perfeitos.csv\"\n",
    "clientes_perfeitos.to_csv(caminho_clientes_perfeitos, index=False)\n",
    "print(\"Clientes perfeitos salvos em\", caminho_clientes_perfeitos)\n",
    "\n",
    "# Salvar todos os dados dos clientes perfeitos em um novo arquivo CSV\n",
    "dados_clientes_perfeitos = dados[dados.index.isin(clientes_perfeitos.index)]\n",
    "caminho_dados_clientes_perfeitos = \"dados_clientes_perfeitos.csv\"\n",
    "dados_clientes_perfeitos.to_csv(caminho_dados_clientes_perfeitos, index=False)\n",
    "print(\"Dados dos clientes perfeitos salvos em\", caminho_dados_clientes_perfeitos)\n"
   ]
  },
  {
   "cell_type": "code",
   "execution_count": 29,
   "metadata": {},
   "outputs": [
    {
     "name": "stdout",
     "output_type": "stream",
     "text": [
      "              precision    recall  f1-score   support\n",
      "\n",
      "         bom       0.94      0.84      0.89        76\n",
      "    perfeito       0.00      0.00      0.00         1\n",
      "        ruim       0.99      1.00      1.00      1718\n",
      "\n",
      "    accuracy                           0.99      1795\n",
      "   macro avg       0.64      0.61      0.63      1795\n",
      "weighted avg       0.99      0.99      0.99      1795\n",
      "\n",
      "[[  64    1   11]\n",
      " [   1    0    0]\n",
      " [   3    0 1715]]\n"
     ]
    }
   ],
   "source": [
    "import pandas as pd\n",
    "from sklearn.model_selection import train_test_split\n",
    "from sklearn.preprocessing import OneHotEncoder\n",
    "from sklearn.ensemble import RandomForestClassifier\n",
    "from sklearn.metrics import classification_report, confusion_matrix\n",
    "\n",
    "# Carregar os dados de cada categoria\n",
    "dados_ruins = pd.read_csv(\"clientes_ruins.csv\")\n",
    "dados_bons = pd.read_csv(\"clientes_bons.csv\")\n",
    "dados_perfeitos = pd.read_csv(\"clientes_perfeitos.csv\")\n",
    "\n",
    "# Adicionar uma coluna 'categoria' para cada dataframe\n",
    "dados_ruins['categoria'] = 'ruim'\n",
    "dados_bons['categoria'] = 'bom'\n",
    "dados_perfeitos['categoria'] = 'perfeito'\n",
    "\n",
    "# Juntar todos os dataframes em um único dataframe\n",
    "dados = pd.concat([dados_ruins, dados_bons, dados_perfeitos], ignore_index=True)\n",
    "\n",
    "# Dividir os dados em features (X) e target (y)\n",
    "X = dados.drop(columns=['categoria'])\n",
    "y = dados['categoria']\n",
    "\n",
    "# Codificar as variáveis categóricas\n",
    "encoder = OneHotEncoder()\n",
    "X_encoded = encoder.fit_transform(X)\n",
    "\n",
    "# Dividir os dados em conjunto de treinamento e teste\n",
    "X_train, X_test, y_train, y_test = train_test_split(X_encoded, y, test_size=0.2, random_state=42)\n",
    "\n",
    "# Treinar o modelo\n",
    "modelo = RandomForestClassifier()\n",
    "modelo.fit(X_train, y_train)\n",
    "\n",
    "# Fazer previsões\n",
    "y_pred = modelo.predict(X_test)\n",
    "\n",
    "# Avaliar o modelo\n",
    "print(classification_report(y_test, y_pred))\n",
    "print(confusion_matrix(y_test, y_pred))"
   ]
  },
  {
   "cell_type": "code",
   "execution_count": 42,
   "metadata": {},
   "outputs": [
    {
     "name": "stdout",
     "output_type": "stream",
     "text": [
      "              precision    recall  f1-score   support\n",
      "\n",
      "         bom       1.00      1.00      1.00      1734\n",
      "        ruim       1.00      1.00      1.00      1714\n",
      "\n",
      "    accuracy                           1.00      3448\n",
      "   macro avg       1.00      1.00      1.00      3448\n",
      "weighted avg       1.00      1.00      1.00      3448\n",
      "\n",
      "[[1733    1]\n",
      " [   0 1714]]\n"
     ]
    }
   ],
   "source": [
    "import pandas as pd\n",
    "from sklearn.ensemble import RandomForestClassifier\n",
    "from sklearn.model_selection import train_test_split\n",
    "from sklearn.metrics import classification_report, confusion_matrix\n",
    "from imblearn.over_sampling import SMOTE\n",
    "\n",
    "# Carregar os dados dos clientes ruins\n",
    "clientes_ruins = pd.read_csv(\"clientes_ruins.csv\")\n",
    "\n",
    "# Adicionar a coluna \"categoria\" com valor \"ruim\" para os clientes ruins\n",
    "clientes_ruins[\"categoria\"] = \"ruim\"\n",
    "\n",
    "# Carregar os dados dos clientes bons\n",
    "clientes_bons = pd.read_csv(\"clientes_bons.csv\")\n",
    "\n",
    "# Adicionar a coluna \"categoria\" com valor \"bom\" para os clientes bons\n",
    "clientes_bons[\"categoria\"] = \"bom\"\n",
    "\n",
    "# Combina os dados de clientes ruins e bons em um único DataFrame\n",
    "dados = pd.concat([clientes_ruins, clientes_bons])\n",
    "\n",
    "# Selecionar apenas as colunas numéricas\n",
    "dados_numericos = dados.select_dtypes(include=['float64', 'int64'])\n",
    "\n",
    "# Separar features (X) e target (y)\n",
    "X = dados_numericos  # features\n",
    "y = dados[\"categoria\"]  # target\n",
    "\n",
    "# Aplicar a técnica SMOTE para sobreamostrar a classe minoritária\n",
    "smote = SMOTE(random_state=42)\n",
    "X_resampled, y_resampled = smote.fit_resample(X, y)\n",
    "\n",
    "# Dividir os dados em conjuntos de treinamento e teste\n",
    "X_train, X_test, y_train, y_test = train_test_split(X_resampled, y_resampled, test_size=0.2, random_state=42)\n",
    "\n",
    "# Inicializar e treinar o modelo de Random Forest\n",
    "modelo = RandomForestClassifier(random_state=42)\n",
    "modelo.fit(X_train, y_train)\n",
    "\n",
    "# Avaliar o desempenho do modelo\n",
    "y_pred = modelo.predict(X_test)\n",
    "print(classification_report(y_test, y_pred))\n",
    "print(confusion_matrix(y_test, y_pred))\n"
   ]
  },
  {
   "cell_type": "code",
   "execution_count": 43,
   "metadata": {},
   "outputs": [
    {
     "name": "stdout",
     "output_type": "stream",
     "text": [
      "              precision    recall  f1-score   support\n",
      "\n",
      "         bom       1.00      1.00      1.00      1734\n",
      "        ruim       1.00      1.00      1.00      1714\n",
      "\n",
      "    accuracy                           1.00      3448\n",
      "   macro avg       1.00      1.00      1.00      3448\n",
      "weighted avg       1.00      1.00      1.00      3448\n",
      "\n",
      "[[1733    1]\n",
      " [   0 1714]]\n"
     ]
    }
   ],
   "source": []
  },
  {
   "cell_type": "code",
   "execution_count": 45,
   "metadata": {},
   "outputs": [
    {
     "name": "stdout",
     "output_type": "stream",
     "text": [
      "Previsões salvas com sucesso no arquivo 'dados_nao_tratados_com_categoria.csv'!\n"
     ]
    }
   ],
   "source": [
    "import pandas as pd\n",
    "\n",
    "# Carregar os dados não tratados\n",
    "dados_nao_tratados = pd.read_csv(\"output.csv\")\n",
    "\n",
    "# Pré-processamento dos dados não tratados (se necessário)\n",
    "# 1. Selecionar apenas as mesmas colunas que foram usadas para treinar o modelo\n",
    "colunas_usadas_no_treinamento = ['percentualProtestos', 'valorAprovado', \n",
    "                     'endividamento', 'passivoCirculante', 'totalAtivo', 'totalPatrimonioLiquido', \n",
    "                     'faturamentoBruto', 'scorePontualidade', 'percentualRisco']  # Substitua pelos nomes reais das colunas\n",
    "dados_nao_tratados = dados_nao_tratados[colunas_usadas_no_treinamento]\n",
    "\n",
    "# 2. Converter dados categóricos em formato numérico, se necessário\n",
    "# Se houver colunas categóricas, aplique codificação one-hot ou outras técnicas de codificação\n",
    "# Exemplo:\n",
    "# dados_nao_tratados = pd.get_dummies(dados_nao_tratados)\n",
    "\n",
    "# Usar o modelo treinado para fazer previsões\n",
    "y_pred = modelo.predict(dados_nao_tratados)\n",
    "\n",
    "# Adicionar as previsões como uma nova coluna chamada \"categoria\" no DataFrame\n",
    "dados_nao_tratados[\"categoria\"] = y_pred\n",
    "\n",
    "# Salvar o DataFrame atualizado em um novo arquivo CSV\n",
    "dados_nao_tratados.to_csv(\"dados_nao_tratados_com_categoria.csv\", index=False)\n",
    "\n",
    "print(\"Previsões salvas com sucesso no arquivo 'dados_nao_tratados_com_categoria.csv'!\")"
   ]
  },
  {
   "cell_type": "code",
   "execution_count": 46,
   "metadata": {},
   "outputs": [
    {
     "name": "stdout",
     "output_type": "stream",
     "text": [
      "Número de clientes bons encontrados: 354\n",
      "Número de clientes ruins encontrados: 8619\n"
     ]
    }
   ],
   "source": [
    "contagem_bons = dados_nao_tratados[dados_nao_tratados[\"categoria\"] == \"bom\"].shape[0]\n",
    "contagem_ruins = dados_nao_tratados[dados_nao_tratados[\"categoria\"] == \"ruim\"].shape[0]\n",
    "\n",
    "print(\"Número de clientes bons encontrados:\", contagem_bons)\n",
    "print(\"Número de clientes ruins encontrados:\", contagem_ruins)"
   ]
  }
 ],
 "metadata": {
  "kernelspec": {
   "display_name": "Python 3",
   "language": "python",
   "name": "python3"
  },
  "language_info": {
   "codemirror_mode": {
    "name": "ipython",
    "version": 3
   },
   "file_extension": ".py",
   "mimetype": "text/x-python",
   "name": "python",
   "nbconvert_exporter": "python",
   "pygments_lexer": "ipython3",
   "version": "3.8.2"
  },
  "orig_nbformat": 4
 },
 "nbformat": 4,
 "nbformat_minor": 2
}
